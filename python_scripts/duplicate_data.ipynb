{
 "cells": [
  {
   "cell_type": "code",
   "execution_count": 19,
   "id": "fe7843d4",
   "metadata": {},
   "outputs": [],
   "source": [
    "import os\n",
    "import shutil\n",
    "import random\n",
    "from datetime import datetime, timedelta"
   ]
  },
  {
   "cell_type": "code",
   "execution_count": 20,
   "id": "ec355b19",
   "metadata": {},
   "outputs": [],
   "source": [
    "# Function to generate a random date in the range\n",
    "def random_date(start, end):\n",
    "    delta = end - start\n",
    "    random_days = random.randint(0, delta.days)\n",
    "    return start + timedelta(days=random_days)"
   ]
  },
  {
   "cell_type": "code",
   "execution_count": null,
   "id": "244a6ca5",
   "metadata": {},
   "outputs": [
    {
     "name": "stdout",
     "output_type": "stream",
     "text": [
      "Created: ../data/csvs/20231027_08_28_96_max_jac_dmn_as_cntry_pyasn_org_edited.csv\n",
      "Created: ../data/csvs/20231011_08_28_96_max_jac_dmn_as_cntry_pyasn_org_edited.csv\n",
      "Created: ../data/csvs/20230928_08_28_96_max_jac_dmn_as_cntry_pyasn_org_edited.csv\n",
      "Created: ../data/csvs/20231230_08_28_96_max_jac_dmn_as_cntry_pyasn_org_edited.csv\n",
      "Created: ../data/csvs/20240622_08_28_96_max_jac_dmn_as_cntry_pyasn_org_edited.csv\n",
      "Created: ../data/csvs/20231121_08_28_96_max_jac_dmn_as_cntry_pyasn_org_edited.csv\n",
      "Created: ../data/csvs/20240702_08_28_96_max_jac_dmn_as_cntry_pyasn_org_edited.csv\n",
      "Created: ../data/csvs/20240619_08_28_96_max_jac_dmn_as_cntry_pyasn_org_edited.csv\n",
      "Created: ../data/csvs/20240825_08_28_96_max_jac_dmn_as_cntry_pyasn_org_edited.csv\n",
      "Created: ../data/csvs/20231009_08_28_96_max_jac_dmn_as_cntry_pyasn_org_edited.csv\n",
      "Created: ../data/csvs/20240225_08_28_96_max_jac_dmn_as_cntry_pyasn_org_edited.csv\n",
      "Created: ../data/csvs/20231211_08_28_96_max_jac_dmn_as_cntry_pyasn_org_edited.csv\n",
      "Created: ../data/csvs/20240412_08_28_96_max_jac_dmn_as_cntry_pyasn_org_edited.csv\n",
      "Created: ../data/csvs/20231010_08_28_96_max_jac_dmn_as_cntry_pyasn_org_edited.csv\n",
      "Created: ../data/csvs/20240119_08_28_96_max_jac_dmn_as_cntry_pyasn_org_edited.csv\n",
      "Created: ../data/csvs/20240328_08_28_96_max_jac_dmn_as_cntry_pyasn_org_edited.csv\n",
      "Created: ../data/csvs/20240711_08_28_96_max_jac_dmn_as_cntry_pyasn_org_edited.csv\n",
      "Created: ../data/csvs/20240705_08_28_96_max_jac_dmn_as_cntry_pyasn_org_edited.csv\n",
      "Created: ../data/csvs/20240510_08_28_96_max_jac_dmn_as_cntry_pyasn_org_edited.csv\n",
      "Created: ../data/csvs/20240429_08_28_96_max_jac_dmn_as_cntry_pyasn_org_edited.csv\n",
      "Created: ../data/csvs/20231002_08_28_96_max_jac_dmn_as_cntry_pyasn_org_edited.csv\n",
      "Created: ../data/csvs/20230927_08_28_96_max_jac_dmn_as_cntry_pyasn_org_edited.csv\n",
      "Created: ../data/csvs/20240211_08_28_96_max_jac_dmn_as_cntry_pyasn_org_edited.csv\n",
      "Created: ../data/csvs/20240312_08_28_96_max_jac_dmn_as_cntry_pyasn_org_edited.csv\n",
      "Created: ../data/csvs/20231221_08_28_96_max_jac_dmn_as_cntry_pyasn_org_edited.csv\n",
      "Created: ../data/csvs/20240409_08_28_96_max_jac_dmn_as_cntry_pyasn_org_edited.csv\n",
      "Created: ../data/csvs/20230929_08_28_96_max_jac_dmn_as_cntry_pyasn_org_edited.csv\n",
      "Created: ../data/csvs/20240826_08_28_96_max_jac_dmn_as_cntry_pyasn_org_edited.csv\n",
      "Created: ../data/csvs/20240709_08_28_96_max_jac_dmn_as_cntry_pyasn_org_edited.csv\n",
      "Created: ../data/csvs/20240831_08_28_96_max_jac_dmn_as_cntry_pyasn_org_edited.csv\n",
      "Duplication complete. Created 30 unique files.\n"
     ]
    }
   ],
   "source": [
    "original_file = '../data/csvs/20240904_08_28_96_max_jac_dmn_as_cntry_pyasn_org_edited.csv'\n",
    "\n",
    "start_date = datetime(2023, 9, 13)\n",
    "end_date = datetime(2024, 9, 11)\n",
    "\n",
    "num_duplicates = 30\n",
    "\n",
    "used_dates = set()\n",
    "\n",
    "original_date_str = '20240904'\n",
    "used_dates.add(original_date_str)\n",
    "\n",
    "for i in range(num_duplicates):\n",
    "    random_dt = None\n",
    "    date_str = None\n",
    "    \n",
    "    while True:\n",
    "        random_dt = random_date(start_date, end_date)\n",
    "        date_str = random_dt.strftime('%Y%m%d')\n",
    "        if date_str not in used_dates:\n",
    "            used_dates.add(date_str)\n",
    "            break\n",
    "    \n",
    "    new_filename = original_file.replace('20240904', date_str)\n",
    "    \n",
    "    shutil.copy(original_file, new_filename)\n",
    "    print(f\"Created: {new_filename}\")\n",
    "\n",
    "print(f\"Duplication complete. Created {num_duplicates} unique files.\")"
   ]
  }
 ],
 "metadata": {
  "kernelspec": {
   "display_name": ".venv",
   "language": "python",
   "name": "python3"
  },
  "language_info": {
   "codemirror_mode": {
    "name": "ipython",
    "version": 3
   },
   "file_extension": ".py",
   "mimetype": "text/x-python",
   "name": "python",
   "nbconvert_exporter": "python",
   "pygments_lexer": "ipython3",
   "version": "3.9.6"
  }
 },
 "nbformat": 4,
 "nbformat_minor": 5
}
